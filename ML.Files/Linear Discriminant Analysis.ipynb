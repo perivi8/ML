{
 "cells": [
  {
   "cell_type": "code",
   "execution_count": 74,
   "id": "da4de7b8",
   "metadata": {},
   "outputs": [],
   "source": [
    "import pandas as pd\n",
    "import numpy as np\n",
    "import matplotlib.pyplot as plt"
   ]
  },
  {
   "cell_type": "code",
   "execution_count": 75,
   "id": "c9722869",
   "metadata": {},
   "outputs": [
    {
     "data": {
      "text/html": [
       "<div>\n",
       "<style scoped>\n",
       "    .dataframe tbody tr th:only-of-type {\n",
       "        vertical-align: middle;\n",
       "    }\n",
       "\n",
       "    .dataframe tbody tr th {\n",
       "        vertical-align: top;\n",
       "    }\n",
       "\n",
       "    .dataframe thead th {\n",
       "        text-align: right;\n",
       "    }\n",
       "</style>\n",
       "<table border=\"1\" class=\"dataframe\">\n",
       "  <thead>\n",
       "    <tr style=\"text-align: right;\">\n",
       "      <th></th>\n",
       "      <th>Alcohol</th>\n",
       "      <th>Malic_Acid</th>\n",
       "      <th>Ash</th>\n",
       "      <th>Ash_Alcanity</th>\n",
       "      <th>Magnesium</th>\n",
       "      <th>Total_Phenols</th>\n",
       "      <th>Flavanoids</th>\n",
       "      <th>Nonflavanoid_Phenols</th>\n",
       "      <th>Proanthocyanins</th>\n",
       "      <th>Color_Intensity</th>\n",
       "      <th>Hue</th>\n",
       "      <th>OD280</th>\n",
       "      <th>Proline</th>\n",
       "      <th>Customer_Segment</th>\n",
       "    </tr>\n",
       "  </thead>\n",
       "  <tbody>\n",
       "    <tr>\n",
       "      <th>0</th>\n",
       "      <td>14.23</td>\n",
       "      <td>1.71</td>\n",
       "      <td>2.43</td>\n",
       "      <td>15.6</td>\n",
       "      <td>127</td>\n",
       "      <td>2.80</td>\n",
       "      <td>3.06</td>\n",
       "      <td>0.28</td>\n",
       "      <td>2.29</td>\n",
       "      <td>5.64</td>\n",
       "      <td>1.04</td>\n",
       "      <td>3.92</td>\n",
       "      <td>1065</td>\n",
       "      <td>1</td>\n",
       "    </tr>\n",
       "    <tr>\n",
       "      <th>1</th>\n",
       "      <td>13.20</td>\n",
       "      <td>1.78</td>\n",
       "      <td>2.14</td>\n",
       "      <td>11.2</td>\n",
       "      <td>100</td>\n",
       "      <td>2.65</td>\n",
       "      <td>2.76</td>\n",
       "      <td>0.26</td>\n",
       "      <td>1.28</td>\n",
       "      <td>4.38</td>\n",
       "      <td>1.05</td>\n",
       "      <td>3.40</td>\n",
       "      <td>1050</td>\n",
       "      <td>1</td>\n",
       "    </tr>\n",
       "    <tr>\n",
       "      <th>2</th>\n",
       "      <td>13.16</td>\n",
       "      <td>2.36</td>\n",
       "      <td>2.67</td>\n",
       "      <td>18.6</td>\n",
       "      <td>101</td>\n",
       "      <td>2.80</td>\n",
       "      <td>3.24</td>\n",
       "      <td>0.30</td>\n",
       "      <td>2.81</td>\n",
       "      <td>5.68</td>\n",
       "      <td>1.03</td>\n",
       "      <td>3.17</td>\n",
       "      <td>1185</td>\n",
       "      <td>1</td>\n",
       "    </tr>\n",
       "    <tr>\n",
       "      <th>3</th>\n",
       "      <td>14.37</td>\n",
       "      <td>1.95</td>\n",
       "      <td>2.50</td>\n",
       "      <td>16.8</td>\n",
       "      <td>113</td>\n",
       "      <td>3.85</td>\n",
       "      <td>3.49</td>\n",
       "      <td>0.24</td>\n",
       "      <td>2.18</td>\n",
       "      <td>7.80</td>\n",
       "      <td>0.86</td>\n",
       "      <td>3.45</td>\n",
       "      <td>1480</td>\n",
       "      <td>1</td>\n",
       "    </tr>\n",
       "    <tr>\n",
       "      <th>4</th>\n",
       "      <td>13.24</td>\n",
       "      <td>2.59</td>\n",
       "      <td>2.87</td>\n",
       "      <td>21.0</td>\n",
       "      <td>118</td>\n",
       "      <td>2.80</td>\n",
       "      <td>2.69</td>\n",
       "      <td>0.39</td>\n",
       "      <td>1.82</td>\n",
       "      <td>4.32</td>\n",
       "      <td>1.04</td>\n",
       "      <td>2.93</td>\n",
       "      <td>735</td>\n",
       "      <td>1</td>\n",
       "    </tr>\n",
       "  </tbody>\n",
       "</table>\n",
       "</div>"
      ],
      "text/plain": [
       "   Alcohol  Malic_Acid   Ash  Ash_Alcanity  Magnesium  Total_Phenols  \\\n",
       "0    14.23        1.71  2.43          15.6        127           2.80   \n",
       "1    13.20        1.78  2.14          11.2        100           2.65   \n",
       "2    13.16        2.36  2.67          18.6        101           2.80   \n",
       "3    14.37        1.95  2.50          16.8        113           3.85   \n",
       "4    13.24        2.59  2.87          21.0        118           2.80   \n",
       "\n",
       "   Flavanoids  Nonflavanoid_Phenols  Proanthocyanins  Color_Intensity   Hue  \\\n",
       "0        3.06                  0.28             2.29             5.64  1.04   \n",
       "1        2.76                  0.26             1.28             4.38  1.05   \n",
       "2        3.24                  0.30             2.81             5.68  1.03   \n",
       "3        3.49                  0.24             2.18             7.80  0.86   \n",
       "4        2.69                  0.39             1.82             4.32  1.04   \n",
       "\n",
       "   OD280  Proline  Customer_Segment  \n",
       "0   3.92     1065                 1  \n",
       "1   3.40     1050                 1  \n",
       "2   3.17     1185                 1  \n",
       "3   3.45     1480                 1  \n",
       "4   2.93      735                 1  "
      ]
     },
     "execution_count": 75,
     "metadata": {},
     "output_type": "execute_result"
    }
   ],
   "source": [
    "df = pd.read_csv(\"D:\\\\anacoda\\\\Linear Discriminant Analysis Data.csv\")\n",
    "df.head()"
   ]
  },
  {
   "cell_type": "code",
   "execution_count": 76,
   "id": "6c4c5e5d",
   "metadata": {},
   "outputs": [
    {
     "data": {
      "text/html": [
       "<div>\n",
       "<style scoped>\n",
       "    .dataframe tbody tr th:only-of-type {\n",
       "        vertical-align: middle;\n",
       "    }\n",
       "\n",
       "    .dataframe tbody tr th {\n",
       "        vertical-align: top;\n",
       "    }\n",
       "\n",
       "    .dataframe thead th {\n",
       "        text-align: right;\n",
       "    }\n",
       "</style>\n",
       "<table border=\"1\" class=\"dataframe\">\n",
       "  <thead>\n",
       "    <tr style=\"text-align: right;\">\n",
       "      <th></th>\n",
       "      <th>Alcohol</th>\n",
       "      <th>Malic_Acid</th>\n",
       "      <th>Ash</th>\n",
       "      <th>Ash_Alcanity</th>\n",
       "      <th>Magnesium</th>\n",
       "      <th>Total_Phenols</th>\n",
       "      <th>Flavanoids</th>\n",
       "      <th>Nonflavanoid_Phenols</th>\n",
       "      <th>Proanthocyanins</th>\n",
       "      <th>Color_Intensity</th>\n",
       "      <th>Hue</th>\n",
       "      <th>OD280</th>\n",
       "      <th>Proline</th>\n",
       "    </tr>\n",
       "  </thead>\n",
       "  <tbody>\n",
       "    <tr>\n",
       "      <th>0</th>\n",
       "      <td>14.23</td>\n",
       "      <td>1.71</td>\n",
       "      <td>2.43</td>\n",
       "      <td>15.6</td>\n",
       "      <td>127</td>\n",
       "      <td>2.80</td>\n",
       "      <td>3.06</td>\n",
       "      <td>0.28</td>\n",
       "      <td>2.29</td>\n",
       "      <td>5.64</td>\n",
       "      <td>1.04</td>\n",
       "      <td>3.92</td>\n",
       "      <td>1065</td>\n",
       "    </tr>\n",
       "    <tr>\n",
       "      <th>1</th>\n",
       "      <td>13.20</td>\n",
       "      <td>1.78</td>\n",
       "      <td>2.14</td>\n",
       "      <td>11.2</td>\n",
       "      <td>100</td>\n",
       "      <td>2.65</td>\n",
       "      <td>2.76</td>\n",
       "      <td>0.26</td>\n",
       "      <td>1.28</td>\n",
       "      <td>4.38</td>\n",
       "      <td>1.05</td>\n",
       "      <td>3.40</td>\n",
       "      <td>1050</td>\n",
       "    </tr>\n",
       "    <tr>\n",
       "      <th>2</th>\n",
       "      <td>13.16</td>\n",
       "      <td>2.36</td>\n",
       "      <td>2.67</td>\n",
       "      <td>18.6</td>\n",
       "      <td>101</td>\n",
       "      <td>2.80</td>\n",
       "      <td>3.24</td>\n",
       "      <td>0.30</td>\n",
       "      <td>2.81</td>\n",
       "      <td>5.68</td>\n",
       "      <td>1.03</td>\n",
       "      <td>3.17</td>\n",
       "      <td>1185</td>\n",
       "    </tr>\n",
       "    <tr>\n",
       "      <th>3</th>\n",
       "      <td>14.37</td>\n",
       "      <td>1.95</td>\n",
       "      <td>2.50</td>\n",
       "      <td>16.8</td>\n",
       "      <td>113</td>\n",
       "      <td>3.85</td>\n",
       "      <td>3.49</td>\n",
       "      <td>0.24</td>\n",
       "      <td>2.18</td>\n",
       "      <td>7.80</td>\n",
       "      <td>0.86</td>\n",
       "      <td>3.45</td>\n",
       "      <td>1480</td>\n",
       "    </tr>\n",
       "    <tr>\n",
       "      <th>4</th>\n",
       "      <td>13.24</td>\n",
       "      <td>2.59</td>\n",
       "      <td>2.87</td>\n",
       "      <td>21.0</td>\n",
       "      <td>118</td>\n",
       "      <td>2.80</td>\n",
       "      <td>2.69</td>\n",
       "      <td>0.39</td>\n",
       "      <td>1.82</td>\n",
       "      <td>4.32</td>\n",
       "      <td>1.04</td>\n",
       "      <td>2.93</td>\n",
       "      <td>735</td>\n",
       "    </tr>\n",
       "  </tbody>\n",
       "</table>\n",
       "</div>"
      ],
      "text/plain": [
       "   Alcohol  Malic_Acid   Ash  Ash_Alcanity  Magnesium  Total_Phenols  \\\n",
       "0    14.23        1.71  2.43          15.6        127           2.80   \n",
       "1    13.20        1.78  2.14          11.2        100           2.65   \n",
       "2    13.16        2.36  2.67          18.6        101           2.80   \n",
       "3    14.37        1.95  2.50          16.8        113           3.85   \n",
       "4    13.24        2.59  2.87          21.0        118           2.80   \n",
       "\n",
       "   Flavanoids  Nonflavanoid_Phenols  Proanthocyanins  Color_Intensity   Hue  \\\n",
       "0        3.06                  0.28             2.29             5.64  1.04   \n",
       "1        2.76                  0.26             1.28             4.38  1.05   \n",
       "2        3.24                  0.30             2.81             5.68  1.03   \n",
       "3        3.49                  0.24             2.18             7.80  0.86   \n",
       "4        2.69                  0.39             1.82             4.32  1.04   \n",
       "\n",
       "   OD280  Proline  \n",
       "0   3.92     1065  \n",
       "1   3.40     1050  \n",
       "2   3.17     1185  \n",
       "3   3.45     1480  \n",
       "4   2.93      735  "
      ]
     },
     "execution_count": 76,
     "metadata": {},
     "output_type": "execute_result"
    }
   ],
   "source": [
    "x = df.drop(\"Customer_Segment\" , axis=1)\n",
    "x.head()"
   ]
  },
  {
   "cell_type": "code",
   "execution_count": 77,
   "id": "c10e616f",
   "metadata": {},
   "outputs": [
    {
     "data": {
      "text/plain": [
       "0    1\n",
       "1    1\n",
       "2    1\n",
       "3    1\n",
       "4    1\n",
       "Name: Customer_Segment, dtype: int64"
      ]
     },
     "execution_count": 77,
     "metadata": {},
     "output_type": "execute_result"
    }
   ],
   "source": [
    "y = df[\"Customer_Segment\"]\n",
    "y.head()"
   ]
  },
  {
   "cell_type": "code",
   "execution_count": 78,
   "id": "bed5c002",
   "metadata": {},
   "outputs": [
    {
     "data": {
      "text/plain": [
       "array([[1.423e+01, 1.710e+00, 2.430e+00, ..., 1.040e+00, 3.920e+00,\n",
       "        1.065e+03],\n",
       "       [1.320e+01, 1.780e+00, 2.140e+00, ..., 1.050e+00, 3.400e+00,\n",
       "        1.050e+03],\n",
       "       [1.316e+01, 2.360e+00, 2.670e+00, ..., 1.030e+00, 3.170e+00,\n",
       "        1.185e+03],\n",
       "       ...,\n",
       "       [1.327e+01, 4.280e+00, 2.260e+00, ..., 5.900e-01, 1.560e+00,\n",
       "        8.350e+02],\n",
       "       [1.317e+01, 2.590e+00, 2.370e+00, ..., 6.000e-01, 1.620e+00,\n",
       "        8.400e+02],\n",
       "       [1.413e+01, 4.100e+00, 2.740e+00, ..., 6.100e-01, 1.600e+00,\n",
       "        5.600e+02]])"
      ]
     },
     "execution_count": 78,
     "metadata": {},
     "output_type": "execute_result"
    }
   ],
   "source": [
    "x = np.array(x)\n",
    "x"
   ]
  },
  {
   "cell_type": "code",
   "execution_count": 79,
   "id": "73cafa15",
   "metadata": {},
   "outputs": [
    {
     "data": {
      "text/plain": [
       "array([1, 1, 1, 1, 1, 1, 1, 1, 1, 1, 1, 1, 1, 1, 1, 1, 1, 1, 1, 1, 1, 1,\n",
       "       1, 1, 1, 1, 1, 1, 1, 1, 1, 1, 1, 1, 1, 1, 1, 1, 1, 1, 1, 1, 1, 1,\n",
       "       1, 1, 1, 1, 1, 1, 1, 1, 1, 1, 1, 1, 1, 1, 1, 2, 2, 2, 2, 2, 2, 2,\n",
       "       2, 2, 2, 2, 2, 2, 2, 2, 2, 2, 2, 2, 2, 2, 2, 2, 2, 2, 2, 2, 2, 2,\n",
       "       2, 2, 2, 2, 2, 2, 2, 2, 2, 2, 2, 2, 2, 2, 2, 2, 2, 2, 2, 2, 2, 2,\n",
       "       2, 2, 2, 2, 2, 2, 2, 2, 2, 2, 2, 2, 2, 2, 2, 2, 2, 2, 2, 2, 3, 3,\n",
       "       3, 3, 3, 3, 3, 3, 3, 3, 3, 3, 3, 3, 3, 3, 3, 3, 3, 3, 3, 3, 3, 3,\n",
       "       3, 3, 3, 3, 3, 3, 3, 3, 3, 3, 3, 3, 3, 3, 3, 3, 3, 3, 3, 3, 3, 3,\n",
       "       3, 3], dtype=int64)"
      ]
     },
     "execution_count": 79,
     "metadata": {},
     "output_type": "execute_result"
    }
   ],
   "source": [
    "y = np.array(y)\n",
    "y"
   ]
  },
  {
   "cell_type": "code",
   "execution_count": 80,
   "id": "d78bb0e4",
   "metadata": {},
   "outputs": [],
   "source": [
    "from sklearn.model_selection import train_test_split"
   ]
  },
  {
   "cell_type": "code",
   "execution_count": 81,
   "id": "d544f7fa",
   "metadata": {},
   "outputs": [],
   "source": [
    "x_train , x_test , y_train , y_test = train_test_split(x , y , test_size=0.2)"
   ]
  },
  {
   "cell_type": "code",
   "execution_count": 82,
   "id": "86b30a48",
   "metadata": {},
   "outputs": [],
   "source": [
    "from sklearn.preprocessing import StandardScaler"
   ]
  },
  {
   "cell_type": "markdown",
   "id": "ce5d38a3",
   "metadata": {},
   "source": [
    "#  First use Standard Scaler "
   ]
  },
  {
   "cell_type": "code",
   "execution_count": 83,
   "id": "8add1c92",
   "metadata": {},
   "outputs": [],
   "source": [
    "sc = StandardScaler()"
   ]
  },
  {
   "cell_type": "code",
   "execution_count": 84,
   "id": "c885b352",
   "metadata": {
    "scrolled": false
   },
   "outputs": [
    {
     "data": {
      "text/plain": [
       "array([[-0.92591525,  2.09393354,  0.61717733, ..., -0.88087704,\n",
       "        -1.84360795, -0.10236149],\n",
       "       [ 0.6543728 , -0.51768463,  0.87493963, ...,  0.70214662,\n",
       "         1.75302175,  0.28355959],\n",
       "       [ 0.99571502, -0.43691294,  1.13270192, ...,  0.74493104,\n",
       "         0.49772746,  1.91986496],\n",
       "       ...,\n",
       "       [-1.24197287, -1.31642696, -1.37127467, ...,  1.81454162,\n",
       "         0.76571164, -1.46697842],\n",
       "       [ 0.67965741,  0.70286544,  1.27999467, ..., -0.28189512,\n",
       "        -0.72935797, -0.71983522],\n",
       "       [-0.12945008,  0.54132205,  0.10165274, ..., -0.92366146,\n",
       "        -1.6320415 , -0.68896153]])"
      ]
     },
     "execution_count": 84,
     "metadata": {},
     "output_type": "execute_result"
    }
   ],
   "source": [
    "x_train = sc.fit_transform(x_train)\n",
    "x_train"
   ]
  },
  {
   "cell_type": "code",
   "execution_count": 85,
   "id": "c96908b5",
   "metadata": {
    "scrolled": true
   },
   "outputs": [
    {
     "data": {
      "text/plain": [
       "array([[ 9.19861193e-01,  2.92857440e+00,  2.85768663e-01,\n",
       "         2.78566097e-01, -3.46463402e-01, -9.46594627e-01,\n",
       "        -1.40649777e+00,  1.22075611e+00, -9.02388933e-01,\n",
       "         1.19732043e+00, -1.35150570e+00, -1.18069973e+00,\n",
       "        -4.06141169e-02],\n",
       "       [ 8.54691004e-02, -5.89481698e-01, -1.22398193e+00,\n",
       "        -2.21099665e+00, -5.54634642e-01,  6.86693076e-01,\n",
       "         1.28153268e+00, -1.54458476e+00,  2.30022621e+00,\n",
       "         9.77298819e-01,  7.02146619e-01,  4.69518604e-01,\n",
       "         1.22520702e+00],\n",
       "       [-3.69653859e-01, -7.68974356e-01, -4.13871857e-01,\n",
       "         3.40036782e-01, -1.38731960e+00, -1.41773531e+00,\n",
       "        -5.47540673e-01,  1.69481455e+00,  6.70513258e-02,\n",
       "        -8.48880570e-01,  1.75958473e-02, -7.29357966e-01,\n",
       "        -7.97019431e-01],\n",
       "       [ 1.31177263e+00, -6.34354862e-01, -5.97987784e-01,\n",
       "        -1.10452432e+00, -2.77072988e-01,  5.76760250e-01,\n",
       "         3.31627182e-01, -8.33497110e-01,  6.90262921e-01,\n",
       "        -1.22809247e-01,  3.59871233e-01,  1.42861986e+00,\n",
       "         8.70159628e-01],\n",
       "       [ 6.29088191e-01, -5.17684635e-01,  1.38475922e-01,\n",
       "         2.78566097e-01,  4.88664883e-04,  6.55283697e-01,\n",
       "         9.88476728e-01, -8.33497110e-01,  4.82525723e-01,\n",
       "         5.32080436e-02,  3.59871233e-01,  1.25936670e+00,\n",
       "         5.15112236e-01],\n",
       "       [ 1.36234185e+00, -6.79228027e-01, -3.40225487e-01,\n",
       "        -1.10452432e+00,  1.80463941e+00,  1.12642438e+00,\n",
       "         1.18047890e+00, -9.91516589e-01,  8.98000119e-01,\n",
       "         2.95231818e-01,  5.73793349e-01,  1.59787302e+00,\n",
       "         8.28806282e-02],\n",
       "       [ 9.57788107e-01, -6.43329495e-01, -4.50695042e-01,\n",
       "        -9.81582946e-01,  1.24951611e+00,  4.98236803e-01,\n",
       "         9.07633707e-01, -1.22854581e+00,  6.70513258e-02,\n",
       "         3.83240463e-01, -1.53541846e-01,  8.78547080e-01,\n",
       "         9.47343844e-01],\n",
       "       [-3.94938468e-01, -1.26257917e+00, -4.87518228e-01,\n",
       "        -4.89817466e-01, -6.89017485e-02, -1.29950775e-01,\n",
       "        -6.24825463e-02, -5.17458152e-01, -2.09931605e-01,\n",
       "        -1.03809916e+00,  1.17277527e+00,  8.22129359e-01,\n",
       "        -9.35951019e-01],\n",
       "       [-8.24776819e-01, -1.25360453e+00, -1.55539060e+00,\n",
       "        -1.47334843e+00,  2.49854355e+00, -6.01091459e-01,\n",
       "        -1.53430945e-01, -1.22409455e-01,  2.04055471e+00,\n",
       "        -6.94865441e-01,  4.45440080e-01, -3.76747210e-01,\n",
       "        -9.74043060e-03],\n",
       "       [ 3.25672885e-01,  1.82336732e-01,  1.83234245e+00,\n",
       "         4.32242810e-01,  1.24951611e+00,  8.12330592e-01,\n",
       "         6.95420777e-01,  1.93629502e-01,  4.13279990e-01,\n",
       "        -2.90025673e-01,  3.59871233e-01,  4.97727464e-01,\n",
       "        -5.60509600e-02],\n",
       "       [-2.68515424e-01,  2.84407381e-03, -3.40225487e-01,\n",
       "        -2.87873278e-02, -9.70977122e-01, -1.40203062e+00,\n",
       "        -1.50755155e+00,  9.04717157e-01, -1.62946913e+00,\n",
       "         2.16541509e+00, -1.65099666e+00, -1.33584847e+00,\n",
       "        -8.74203647e-01],\n",
       "       [-2.05303902e-01,  8.82358098e-01, -2.66579116e-01,\n",
       "        -2.87873278e-02, -8.32196295e-01, -1.26068842e+00,\n",
       "        -1.35597088e+00,  2.72639242e-01, -1.05819183e+00,\n",
       "         2.32383109e+00, -1.00923031e+00, -1.16659530e+00,\n",
       "        -2.10419391e-01],\n",
       "       [ 8.69291976e-01, -1.02026408e+00, -1.66586016e+00,\n",
       "        -4.89817466e-01, -4.15853815e-01, -2.86997670e-01,\n",
       "        -2.14063211e-01, -3.59438674e-01, -1.47366623e+00,\n",
       "        -5.18848151e-01,  1.17277527e+00, -1.65180757e-01,\n",
       "        -3.80224666e-01],\n",
       "       [-7.74207601e-01, -1.09206114e+00, -1.66586016e+00,\n",
       "         1.94801467e-03, -1.52610043e+00, -2.71292980e-01,\n",
       "        -1.85028041e-03, -7.54487371e-01, -9.37011800e-01,\n",
       "        -1.31610111e-01,  7.02146619e-01,  1.27347113e+00,\n",
       "        -7.50708901e-01],\n",
       "       [ 1.00835732e+00,  3.34905491e-01, -2.66579116e-01,\n",
       "         7.39596235e-01, -6.93415469e-01, -1.46484938e+00,\n",
       "        -1.33576013e+00,  3.51648981e-01, -9.54323233e-01,\n",
       "         2.02460170e+00, -1.09479916e+00, -1.26532631e+00,\n",
       "        -4.26535195e-01],\n",
       "       [ 5.27949756e-01,  1.36698827e+00,  3.96238219e-01,\n",
       "         1.04694966e+00,  1.39269492e-01, -7.58138353e-01,\n",
       "        -1.26502249e+00,  5.09668460e-01, -2.96488771e-01,\n",
       "         1.02130314e+00, -1.09479916e+00, -1.43457948e+00,\n",
       "        -9.74043060e-03],\n",
       "       [ 2.75103667e-01, -5.44608533e-01, -8.55750081e-01,\n",
       "        -2.57982076e+00,  4.88664883e-04,  5.76760250e-01,\n",
       "         7.66158420e-01, -8.33497110e-01, -5.21537403e-01,\n",
       "        -2.63623079e-01,  4.02655657e-01,  1.16063568e+00,\n",
       "         9.16470158e-01],\n",
       "       [ 7.30226627e-01, -5.89481698e-01,  3.22591849e-01,\n",
       "         2.78566097e-01,  1.11073528e+00,  1.06360562e+00,\n",
       "         7.86369176e-01, -1.30755555e+00,  1.50390028e+00,\n",
       "         5.59257754e-01,  1.03164694e-01,  6.38771766e-01,\n",
       "         1.13258596e+00],\n",
       "       [ 6.01844915e-02, -1.33437623e+00, -2.43914705e+00,\n",
       "        -1.10452432e+00, -9.70977122e-01, -5.22568012e-01,\n",
       "         2.84658525e-02, -9.91516589e-01, -2.09931605e-01,\n",
       "        -1.66813570e-01,  1.00163758e+00, -1.36971896e-01,\n",
       "        -1.11501840e+00],\n",
       "       [-7.10996079e-01,  1.83366919e+00,  1.31681785e+00,\n",
       "         2.12268665e+00,  1.39269492e-01, -1.29950775e-01,\n",
       "         1.29519629e-01,  5.09668460e-01,  2.22854225e-01,\n",
       "        -1.27572250e+00, -1.53541846e-01,  7.65711638e-01,\n",
       "        -1.19837735e+00],\n",
       "       [-7.74207601e-01, -1.12795967e+00, -7.82103710e-01,\n",
       "        -1.82464040e-01, -9.01586709e-01,  1.91165885e+00,\n",
       "         1.10974126e+00, -1.38656529e+00,  4.99837156e-01,\n",
       "        -2.32820053e-01,  1.12999085e+00,  4.13100883e-01,\n",
       "        -1.02857208e+00],\n",
       "       [ 1.55197642e+00,  1.48365850e+00,  2.48945478e-01,\n",
       "        -2.13199383e-01,  7.63783212e-01,  8.90854039e-01,\n",
       "         6.54999266e-01, -5.17458152e-01, -5.73471703e-01,\n",
       "         1.14814095e-01, -3.67463962e-01,  1.06190467e+00,\n",
       "         1.00909122e+00],\n",
       "       [-1.68445352e+00, -6.43329495e-01,  9.11762813e-01,\n",
       "         1.96900994e+00, -8.32196295e-01, -5.69682080e-01,\n",
       "        -3.95960008e-01,  2.72639242e-01, -4.17668804e-01,\n",
       "        -1.04690002e+00,  1.72897278e+00,  8.92651510e-01,\n",
       "        -5.90165733e-01],\n",
       "       [-1.93729961e+00,  1.18187067e-02,  1.75299107e-01,\n",
       "         1.24889385e-01, -2.77072988e-01,  9.69377486e-01,\n",
       "         7.96474553e-01, -3.59438674e-01,  4.30591423e-01,\n",
       "        -7.60871925e-01, -6.66954925e-01,  1.14653125e+00,\n",
       "        -3.95661509e-01],\n",
       "       [ 1.07156885e+00, -7.33075824e-01,  9.11762813e-01,\n",
       "         1.24889385e-01,  1.04134486e+00,  1.04790093e+00,\n",
       "         1.41290259e+00,  2.72639242e-01,  2.40165658e-01,\n",
       "         7.13272883e-01,  7.44931042e-01, -1.00320243e-02,\n",
       "         1.16345965e+00],\n",
       "       [-8.75346037e-01,  3.97727922e-01, -5.61164598e-01,\n",
       "        -4.89817466e-01, -8.32196295e-01,  2.62666461e-01,\n",
       "         2.50784161e-01, -9.12506850e-01,  7.07574354e-01,\n",
       "        -1.24491947e+00,  8.30499889e-01,  1.01959138e+00,\n",
       "        -1.42993000e+00],\n",
       "       [-1.44424974e+00, -1.34335086e+00,  7.64470072e-01,\n",
       "        -4.89817466e-01, -4.15853815e-01, -1.29950775e-01,\n",
       "         2.10362650e-01, -1.14953607e+00,  1.33078595e+00,\n",
       "        -8.48880570e-01, -7.09739348e-01,  7.09293917e-01,\n",
       "        -7.19835215e-01],\n",
       "       [ 6.29088191e-01, -6.43329495e-01,  9.85409184e-01,\n",
       "         8.93272948e-01, -7.62805882e-01,  4.98236803e-01,\n",
       "        -9.11334268e-01,  1.22075611e+00,  1.22691735e+00,\n",
       "         2.97949550e+00, -1.65099666e+00, -1.12428201e+00,\n",
       "        -4.11098352e-01],\n",
       "       [-1.14083443e+00, -8.94619216e-01,  4.69884590e-01,\n",
       "         8.93272948e-01, -1.10975795e+00,  4.35418045e-01,\n",
       "         2.91205671e-01,  5.09668460e-01, -9.37011800e-01,\n",
       "        -9.14887054e-01, -1.10757422e-01,  8.64442650e-01,\n",
       "        -1.13662998e+00],\n",
       "       [ 1.48876489e+00,  1.10539669e-01,  3.96238219e-01,\n",
       "         1.24889385e-01, -6.24025055e-01, -9.46594627e-01,\n",
       "        -1.31554937e+00,  5.88678199e-01, -5.90783136e-01,\n",
       "         2.07740688e+00, -1.43707454e+00, -1.22301302e+00,\n",
       "        -2.87603607e-01],\n",
       "       [ 1.76689559e+00,  1.07980002e+00, -3.40225487e-01,\n",
       "        -1.10452432e+00,  1.39269492e-01,  1.51904162e+00,\n",
       "         1.18047890e+00, -7.54487371e-01,  1.05380302e+00,\n",
       "        -3.48006016e-02,  3.59871233e-01,  1.21705341e+00,\n",
       "         9.62780687e-01],\n",
       "       [ 1.43819568e+00, -8.13847520e-01, -1.92932745e-01,\n",
       "        -8.58641576e-01, -3.46463402e-01, -1.29950775e-01,\n",
       "         4.32680958e-01, -8.33497110e-01, -1.95058402e-02,\n",
       "         9.20372100e-03,  9.16068735e-01,  3.42578731e-01,\n",
       "         1.62656494e+00],\n",
       "       [-1.79823426e+00, -3.02293445e-01,  3.15797712e+00,\n",
       "         2.73739350e+00,  1.31890652e+00,  1.40910879e+00,\n",
       "         3.11060603e+00,  8.25707417e-01,  4.99837156e-01,\n",
       "         4.49246947e-01, -1.10757422e-01,  1.56966416e+00,\n",
       "        -8.89640490e-01],\n",
       "       [-1.44424974e+00,  4.51575719e-01, -5.24341413e-01,\n",
       "        -4.89817466e-01,  8.33173625e-01, -8.83775869e-01,\n",
       "        -6.89015960e-01,  5.09668460e-01, -1.09281470e+00,\n",
       "        -1.02489786e+00,  1.75958473e-02, -8.05541755e-02,\n",
       "        -7.81582588e-01],\n",
       "       [-5.97215339e-01, -1.02923871e+00, -4.50695042e-01,\n",
       "        -6.43494178e-01, -1.04036754e+00, -4.44044564e-01,\n",
       "        -1.43681391e+00,  1.85283403e+00, -5.73471703e-01,\n",
       "         2.07223173e-01, -8.80877041e-01, -1.50510163e+00,\n",
       "        -3.18477293e-01],\n",
       "       [ 2.33579929e+00, -6.70253394e-01, -7.45280525e-01,\n",
       "        -1.71923117e+00, -2.07682575e-01,  8.12330592e-01,\n",
       "         9.88476728e-01, -5.96467892e-01,  6.90262921e-01,\n",
       "         9.72123663e-02,  5.31008926e-01,  3.84892022e-01,\n",
       "         9.01033315e-01]])"
      ]
     },
     "execution_count": 85,
     "metadata": {},
     "output_type": "execute_result"
    }
   ],
   "source": [
    "x_test = sc.transform(x_test)\n",
    "x_test"
   ]
  },
  {
   "cell_type": "markdown",
   "id": "a3a7bddc",
   "metadata": {},
   "source": [
    "# Then import Linear Discriminant  "
   ]
  },
  {
   "cell_type": "code",
   "execution_count": 86,
   "id": "4b318d21",
   "metadata": {},
   "outputs": [],
   "source": [
    "from sklearn.discriminant_analysis import LinearDiscriminantAnalysis as LDA"
   ]
  },
  {
   "cell_type": "code",
   "execution_count": 87,
   "id": "c0a61db4",
   "metadata": {},
   "outputs": [],
   "source": [
    "lda = LDA(n_components= 2)"
   ]
  },
  {
   "cell_type": "code",
   "execution_count": 88,
   "id": "2f1cbe1a",
   "metadata": {},
   "outputs": [],
   "source": [
    "x_train = lda.fit_transform(x_train , y_train) # we need to take y_train also in Linear discremenent analysis\n",
    "x_test = lda.transform(x_test)"
   ]
  },
  {
   "cell_type": "markdown",
   "id": "6d384f66",
   "metadata": {},
   "source": [
    "#  Then fit the data in any regression"
   ]
  },
  {
   "cell_type": "code",
   "execution_count": 89,
   "id": "4dd11017",
   "metadata": {},
   "outputs": [],
   "source": [
    "from sklearn.linear_model import LogisticRegression"
   ]
  },
  {
   "cell_type": "code",
   "execution_count": 90,
   "id": "d6683404",
   "metadata": {},
   "outputs": [],
   "source": [
    "classfier = LogisticRegression()"
   ]
  },
  {
   "cell_type": "code",
   "execution_count": 91,
   "id": "a5ad94a9",
   "metadata": {},
   "outputs": [
    {
     "data": {
      "text/html": [
       "<style>#sk-container-id-2 {color: black;}#sk-container-id-2 pre{padding: 0;}#sk-container-id-2 div.sk-toggleable {background-color: white;}#sk-container-id-2 label.sk-toggleable__label {cursor: pointer;display: block;width: 100%;margin-bottom: 0;padding: 0.3em;box-sizing: border-box;text-align: center;}#sk-container-id-2 label.sk-toggleable__label-arrow:before {content: \"▸\";float: left;margin-right: 0.25em;color: #696969;}#sk-container-id-2 label.sk-toggleable__label-arrow:hover:before {color: black;}#sk-container-id-2 div.sk-estimator:hover label.sk-toggleable__label-arrow:before {color: black;}#sk-container-id-2 div.sk-toggleable__content {max-height: 0;max-width: 0;overflow: hidden;text-align: left;background-color: #f0f8ff;}#sk-container-id-2 div.sk-toggleable__content pre {margin: 0.2em;color: black;border-radius: 0.25em;background-color: #f0f8ff;}#sk-container-id-2 input.sk-toggleable__control:checked~div.sk-toggleable__content {max-height: 200px;max-width: 100%;overflow: auto;}#sk-container-id-2 input.sk-toggleable__control:checked~label.sk-toggleable__label-arrow:before {content: \"▾\";}#sk-container-id-2 div.sk-estimator input.sk-toggleable__control:checked~label.sk-toggleable__label {background-color: #d4ebff;}#sk-container-id-2 div.sk-label input.sk-toggleable__control:checked~label.sk-toggleable__label {background-color: #d4ebff;}#sk-container-id-2 input.sk-hidden--visually {border: 0;clip: rect(1px 1px 1px 1px);clip: rect(1px, 1px, 1px, 1px);height: 1px;margin: -1px;overflow: hidden;padding: 0;position: absolute;width: 1px;}#sk-container-id-2 div.sk-estimator {font-family: monospace;background-color: #f0f8ff;border: 1px dotted black;border-radius: 0.25em;box-sizing: border-box;margin-bottom: 0.5em;}#sk-container-id-2 div.sk-estimator:hover {background-color: #d4ebff;}#sk-container-id-2 div.sk-parallel-item::after {content: \"\";width: 100%;border-bottom: 1px solid gray;flex-grow: 1;}#sk-container-id-2 div.sk-label:hover label.sk-toggleable__label {background-color: #d4ebff;}#sk-container-id-2 div.sk-serial::before {content: \"\";position: absolute;border-left: 1px solid gray;box-sizing: border-box;top: 0;bottom: 0;left: 50%;z-index: 0;}#sk-container-id-2 div.sk-serial {display: flex;flex-direction: column;align-items: center;background-color: white;padding-right: 0.2em;padding-left: 0.2em;position: relative;}#sk-container-id-2 div.sk-item {position: relative;z-index: 1;}#sk-container-id-2 div.sk-parallel {display: flex;align-items: stretch;justify-content: center;background-color: white;position: relative;}#sk-container-id-2 div.sk-item::before, #sk-container-id-2 div.sk-parallel-item::before {content: \"\";position: absolute;border-left: 1px solid gray;box-sizing: border-box;top: 0;bottom: 0;left: 50%;z-index: -1;}#sk-container-id-2 div.sk-parallel-item {display: flex;flex-direction: column;z-index: 1;position: relative;background-color: white;}#sk-container-id-2 div.sk-parallel-item:first-child::after {align-self: flex-end;width: 50%;}#sk-container-id-2 div.sk-parallel-item:last-child::after {align-self: flex-start;width: 50%;}#sk-container-id-2 div.sk-parallel-item:only-child::after {width: 0;}#sk-container-id-2 div.sk-dashed-wrapped {border: 1px dashed gray;margin: 0 0.4em 0.5em 0.4em;box-sizing: border-box;padding-bottom: 0.4em;background-color: white;}#sk-container-id-2 div.sk-label label {font-family: monospace;font-weight: bold;display: inline-block;line-height: 1.2em;}#sk-container-id-2 div.sk-label-container {text-align: center;}#sk-container-id-2 div.sk-container {/* jupyter's `normalize.less` sets `[hidden] { display: none; }` but bootstrap.min.css set `[hidden] { display: none !important; }` so we also need the `!important` here to be able to override the default hidden behavior on the sphinx rendered scikit-learn.org. See: https://github.com/scikit-learn/scikit-learn/issues/21755 */display: inline-block !important;position: relative;}#sk-container-id-2 div.sk-text-repr-fallback {display: none;}</style><div id=\"sk-container-id-2\" class=\"sk-top-container\"><div class=\"sk-text-repr-fallback\"><pre>LogisticRegression()</pre><b>In a Jupyter environment, please rerun this cell to show the HTML representation or trust the notebook. <br />On GitHub, the HTML representation is unable to render, please try loading this page with nbviewer.org.</b></div><div class=\"sk-container\" hidden><div class=\"sk-item\"><div class=\"sk-estimator sk-toggleable\"><input class=\"sk-toggleable__control sk-hidden--visually\" id=\"sk-estimator-id-2\" type=\"checkbox\" checked><label for=\"sk-estimator-id-2\" class=\"sk-toggleable__label sk-toggleable__label-arrow\">LogisticRegression</label><div class=\"sk-toggleable__content\"><pre>LogisticRegression()</pre></div></div></div></div></div>"
      ],
      "text/plain": [
       "LogisticRegression()"
      ]
     },
     "execution_count": 91,
     "metadata": {},
     "output_type": "execute_result"
    }
   ],
   "source": [
    "classfier.fit(x_train , y_train )"
   ]
  },
  {
   "cell_type": "code",
   "execution_count": 92,
   "id": "7141518b",
   "metadata": {},
   "outputs": [
    {
     "data": {
      "text/plain": [
       "array([3, 1, 2, 1, 1, 1, 1, 2, 2, 1, 3, 3, 2, 2, 3, 3, 1, 1, 2, 2, 2, 1,\n",
       "       2, 2, 1, 2, 2, 3, 2, 3, 1, 1, 2, 2, 3, 1], dtype=int64)"
      ]
     },
     "execution_count": 92,
     "metadata": {},
     "output_type": "execute_result"
    }
   ],
   "source": [
    "z = classfier.predict(x_test)\n",
    "z"
   ]
  },
  {
   "cell_type": "markdown",
   "id": "e5a8a3b1",
   "metadata": {},
   "source": [
    "# Confusion Matrix "
   ]
  },
  {
   "cell_type": "code",
   "execution_count": 93,
   "id": "22993b8a",
   "metadata": {},
   "outputs": [],
   "source": [
    "from sklearn.metrics import confusion_matrix"
   ]
  },
  {
   "cell_type": "code",
   "execution_count": 94,
   "id": "e5ee9e36",
   "metadata": {},
   "outputs": [
    {
     "data": {
      "text/plain": [
       "array([[13,  0,  0],\n",
       "       [ 0, 15,  0],\n",
       "       [ 0,  0,  8]], dtype=int64)"
      ]
     },
     "execution_count": 94,
     "metadata": {},
     "output_type": "execute_result"
    }
   ],
   "source": [
    "cm = confusion_matrix(y_test , z)\n",
    "cm"
   ]
  },
  {
   "cell_type": "markdown",
   "id": "d5f2fd2a",
   "metadata": {},
   "source": [
    "#  Heat Map"
   ]
  },
  {
   "cell_type": "code",
   "execution_count": 95,
   "id": "c14cd25b",
   "metadata": {},
   "outputs": [],
   "source": [
    "import seaborn as sns"
   ]
  },
  {
   "cell_type": "code",
   "execution_count": 96,
   "id": "fc4fb5fd",
   "metadata": {
    "scrolled": false
   },
   "outputs": [
    {
     "data": {
      "text/plain": [
       "<Axes: >"
      ]
     },
     "execution_count": 96,
     "metadata": {},
     "output_type": "execute_result"
    },
    {
     "data": {
      "image/png": "[encoded data removed]",
      "text/plain": [
       "<Figure size 640x480 with 2 Axes>"
      ]
     },
     "metadata": {},
     "output_type": "display_data"
    }
   ],
   "source": [
    "sns.heatmap(cm , annot=True)"
   ]
  },
  {
   "cell_type": "markdown",
   "id": "29c9830a",
   "metadata": {},
   "source": [
    "## accuracy Score "
   ]
  },
  {
   "cell_type": "code",
   "execution_count": 100,
   "id": "a3b3b8ec",
   "metadata": {},
   "outputs": [],
   "source": [
    "from sklearn.metrics import accuracy_score"
   ]
  },
  {
   "cell_type": "code",
   "execution_count": 101,
   "id": "111c20a3",
   "metadata": {},
   "outputs": [
    {
     "data": {
      "text/plain": [
       "1.0"
      ]
     },
     "execution_count": 101,
     "metadata": {},
     "output_type": "execute_result"
    }
   ],
   "source": [
    "ac = accuracy_score(y_test , z)\n",
    "ac"
   ]
  }
 ],
 "metadata": {
  "kernelspec": {
   "display_name": "Python 3 (ipykernel)",
   "language": "python",
   "name": "python3"
  },
  "language_info": {
   "codemirror_mode": {
    "name": "ipython",
    "version": 3
   },
   "file_extension": ".py",
   "mimetype": "text/x-python",
   "name": "python",
   "nbconvert_exporter": "python",
   "pygments_lexer": "ipython3",
   "version": "3.11.5"
  }
 },
 "nbformat": 4,
 "nbformat_minor": 5
}
